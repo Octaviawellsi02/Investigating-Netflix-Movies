{
 "cells": [
  {
   "cell_type": "markdown",
   "id": "937acf3c-c077-4ca6-8d90-8f6dd4d13c54",
   "metadata": {},
   "source": [
    "<center><img src=\"redpopcorn.jpg\"></center>"
   ]
  },
  {
   "cell_type": "markdown",
   "id": "5962b2cd-17bb-4ec9-b2d5-68537ca26860",
   "metadata": {},
   "source": [
    "**Netflix**! What started in 1997 as a DVD rental service has since exploded into one of the largest entertainment and media companies.\n",
    "\n",
    "Given the large number of movies and series available on the platform, it is a perfect opportunity to flex your exploratory data analysis skills and dive into the entertainment industry.\n",
    "\n",
    "You work for a production company that specializes in nostalgic styles. You want to do some research on movies released in the 1990's. You'll delve into Netflix data and perform exploratory data analysis to better understand this awesome movie decade!\n",
    "\n",
    "You have been supplied with the dataset `netflix_data.csv`, along with the following table detailing the column names and descriptions. Feel free to experiment further after submitting!\n",
    "\n",
    "## The data\n",
    "### **netflix_data.csv**\n",
    "| Column | Description |\n",
    "|--------|-------------|\n",
    "| `show_id` | The ID of the show |\n",
    "| `type` | Type of show |\n",
    "| `title` | Title of the show |\n",
    "| `director` | Director of the show |\n",
    "| `cast` | Cast of the show |\n",
    "| `country` | Country of origin |\n",
    "| `date_added` | Date added to Netflix |\n",
    "| `release_year` | Year of Netflix release |\n",
    "| `duration` | Duration of the show in minutes |\n",
    "| `description` | Description of the show |\n",
    "| `genre` | Show genre |"
   ]
  },
  {
   "cell_type": "code",
   "execution_count": 53,
   "id": "320a3abc-8a36-4b2b-baaf-473325363a4d",
   "metadata": {
    "executionCancelledAt": null,
    "executionTime": 37,
    "lastExecutedAt": 1736595088323,
    "lastExecutedByKernel": "7102e75b-c950-44c3-a413-c13244db33a8",
    "lastScheduledRunId": null,
    "lastSuccessfullyExecutedCode": "# Importing pandas and matplotlib\nimport pandas as pd\nimport matplotlib.pyplot as plt\n\n# Read in the Netflix CSV as a DataFrame\nnetflix_df = pd.read_csv(\"netflix_data.csv\")"
   },
   "outputs": [],
   "source": [
    "# Importing pandas and matplotlib\n",
    "import pandas as pd\n",
    "import matplotlib.pyplot as plt\n",
    "\n",
    "# Read in the Netflix CSV as a DataFrame\n",
    "netflix_df = pd.read_csv(\"netflix_data.csv\")"
   ]
  },
  {
   "cell_type": "code",
   "execution_count": 59,
   "id": "72658473-114f-49eb-bd4e-cc03c710834a",
   "metadata": {
    "executionCancelledAt": null,
    "executionTime": 9,
    "lastExecutedAt": 1716304521330,
    "lastExecutedByKernel": "0d939945-001f-4d0d-a547-a84889cb9c27",
    "lastScheduledRunId": null,
    "lastSuccessfullyExecutedCode": "# Start coding here! Use as many cells as you like"
   },
   "outputs": [
    {
     "data": {
      "text/html": [
       "<div>\n",
       "<style scoped>\n",
       "    .dataframe tbody tr th:only-of-type {\n",
       "        vertical-align: middle;\n",
       "    }\n",
       "\n",
       "    .dataframe tbody tr th {\n",
       "        vertical-align: top;\n",
       "    }\n",
       "\n",
       "    .dataframe thead th {\n",
       "        text-align: right;\n",
       "    }\n",
       "</style>\n",
       "<table border=\"1\" class=\"dataframe\">\n",
       "  <thead>\n",
       "    <tr style=\"text-align: right;\">\n",
       "      <th></th>\n",
       "      <th>show_id</th>\n",
       "      <th>type</th>\n",
       "      <th>title</th>\n",
       "      <th>director</th>\n",
       "      <th>cast</th>\n",
       "      <th>country</th>\n",
       "      <th>date_added</th>\n",
       "      <th>release_year</th>\n",
       "      <th>duration</th>\n",
       "      <th>description</th>\n",
       "      <th>genre</th>\n",
       "    </tr>\n",
       "  </thead>\n",
       "  <tbody>\n",
       "    <tr>\n",
       "      <th>0</th>\n",
       "      <td>s2</td>\n",
       "      <td>Movie</td>\n",
       "      <td>7:19</td>\n",
       "      <td>Jorge Michel Grau</td>\n",
       "      <td>Demián Bichir, Héctor Bonilla, Oscar Serrano, ...</td>\n",
       "      <td>Mexico</td>\n",
       "      <td>December 23, 2016</td>\n",
       "      <td>2016</td>\n",
       "      <td>93</td>\n",
       "      <td>After a devastating earthquake hits Mexico Cit...</td>\n",
       "      <td>Dramas</td>\n",
       "    </tr>\n",
       "    <tr>\n",
       "      <th>1</th>\n",
       "      <td>s3</td>\n",
       "      <td>Movie</td>\n",
       "      <td>23:59</td>\n",
       "      <td>Gilbert Chan</td>\n",
       "      <td>Tedd Chan, Stella Chung, Henley Hii, Lawrence ...</td>\n",
       "      <td>Singapore</td>\n",
       "      <td>December 20, 2018</td>\n",
       "      <td>2011</td>\n",
       "      <td>78</td>\n",
       "      <td>When an army recruit is found dead, his fellow...</td>\n",
       "      <td>Horror Movies</td>\n",
       "    </tr>\n",
       "    <tr>\n",
       "      <th>2</th>\n",
       "      <td>s4</td>\n",
       "      <td>Movie</td>\n",
       "      <td>9</td>\n",
       "      <td>Shane Acker</td>\n",
       "      <td>Elijah Wood, John C. Reilly, Jennifer Connelly...</td>\n",
       "      <td>United States</td>\n",
       "      <td>November 16, 2017</td>\n",
       "      <td>2009</td>\n",
       "      <td>80</td>\n",
       "      <td>In a postapocalyptic world, rag-doll robots hi...</td>\n",
       "      <td>Action</td>\n",
       "    </tr>\n",
       "  </tbody>\n",
       "</table>\n",
       "</div>"
      ],
      "text/plain": [
       "  show_id   type  title           director  \\\n",
       "0      s2  Movie   7:19  Jorge Michel Grau   \n",
       "1      s3  Movie  23:59       Gilbert Chan   \n",
       "2      s4  Movie      9        Shane Acker   \n",
       "\n",
       "                                                cast        country  \\\n",
       "0  Demián Bichir, Héctor Bonilla, Oscar Serrano, ...         Mexico   \n",
       "1  Tedd Chan, Stella Chung, Henley Hii, Lawrence ...      Singapore   \n",
       "2  Elijah Wood, John C. Reilly, Jennifer Connelly...  United States   \n",
       "\n",
       "          date_added  release_year  duration  \\\n",
       "0  December 23, 2016          2016        93   \n",
       "1  December 20, 2018          2011        78   \n",
       "2  November 16, 2017          2009        80   \n",
       "\n",
       "                                         description          genre  \n",
       "0  After a devastating earthquake hits Mexico Cit...         Dramas  \n",
       "1  When an army recruit is found dead, his fellow...  Horror Movies  \n",
       "2  In a postapocalyptic world, rag-doll robots hi...         Action  "
      ]
     },
     "execution_count": 59,
     "metadata": {},
     "output_type": "execute_result"
    }
   ],
   "source": [
    "# Display the first 20 rows of the DataFrame\n",
    "netflix_df.head(3)\n"
   ]
  },
  {
   "cell_type": "markdown",
   "id": "b7291dc6",
   "metadata": {},
   "source": [
    "# What was the most frequent movie duration in the 1990s?"
   ]
  },
  {
   "cell_type": "code",
   "execution_count": 66,
   "id": "fac8f21e",
   "metadata": {},
   "outputs": [
    {
     "name": "stdout",
     "output_type": "stream",
     "text": [
      "The most frequent movie duration in the 1990s is: 94 minutes\n"
     ]
    }
   ],
   "source": [
    "# Filter the data for movies released in the 1990s\n",
    "# I filtered the DataFrame to include only movies from the 1990s. \n",
    "# The reason for this is that I want to focus on analyzing trends and characteristics specific to that decade. \n",
    "# By selecting movies released between 1990 and 1999, I ensure the data only includes relevant information for my analysis. \n",
    "# I also specified 'type' == 'Movie' to ensure that the dataset only contains movies, not other content types like TV shows.\n",
    "movies_released_1990s = netflix_df[(netflix_df['type'] == 'Movie') & (netflix_df['release_year'] >= 1990) & (netflix_df['release_year'] < 2000)]\n",
    "\n",
    "# Find the most frequent movie duration in the 1990s and save it as an integer\n",
    "# I used the 'mode()' function to identify the most common movie duration from the filtered 1990s data. \n",
    "# The result is the most frequent duration, which I converted to an integer to ensure it's clean and easy to use. \n",
    "# This value is saved in a variable called 'duration' for later use in the project.\n",
    "duration = int(movies_released_1990s['duration'].mode()[0])\n",
    "\n",
    "# Display the result for the most frequent movie duration in the 1990s\n",
    "# Here, I use a print statement to display the most frequent movie duration found from the 1990s movies dataset.\n",
    "# This output will help me understand the common movie lengths in the 1990s, which could be useful for identifying industry patterns.\n",
    "print(f\"The most frequent movie duration in the 1990s is: {duration} minutes\")\n"
   ]
  },
  {
   "cell_type": "markdown",
   "id": "bc0fd641",
   "metadata": {},
   "source": [
    "# A movie is considered short if it is less than 90 minutes. Count the number of short action movies released in the 1990s "
   ]
  },
  {
   "cell_type": "code",
   "execution_count": 67,
   "id": "ba92cfe5",
   "metadata": {},
   "outputs": [
    {
     "name": "stdout",
     "output_type": "stream",
     "text": [
      "The number of short action movies released in the 1990s is: 7\n"
     ]
    }
   ],
   "source": [
    "# Filter for short action movies in the 1990s\n",
    "# I define a short movie as one that has a duration of less than 90 minutes. \n",
    "# Since I am specifically interested in action movies, I filter the data to include only 'Action' genre movies \n",
    "# that also meet the duration criterion of being under 90 minutes.\n",
    "short_action_movies_1990s = movies_released_1990s[(movies_released_1990s['duration'] < 90) & (movies_released_1990s['genre'] == 'Action')]\n",
    "\n",
    "# Count the number of short action movies\n",
    "# I use the 'len()' function to count the number of rows in the filtered DataFrame, which represents the number of \n",
    "# short action movies released in the 1990s. \n",
    "short_movie_count = len(short_action_movies_1990s)\n",
    "\n",
    "# Display the result for the count of short action movies\n",
    "# The print statement will show the total count of short action movies in the 1990s.\n",
    "print(f\"The number of short action movies released in the 1990s is: {short_movie_count}\")\n"
   ]
  }
 ],
 "metadata": {
  "colab": {
   "name": "Welcome to DataCamp Workspaces.ipynb",
   "provenance": []
  },
  "editor": "DataLab",
  "kernelspec": {
   "display_name": "Python 3",
   "language": "python",
   "name": "python3"
  },
  "language_info": {
   "codemirror_mode": {
    "name": "ipython",
    "version": 3
   },
   "file_extension": ".py",
   "mimetype": "text/x-python",
   "name": "python",
   "nbconvert_exporter": "python",
   "pygments_lexer": "ipython3",
   "version": "3.11.5"
  }
 },
 "nbformat": 4,
 "nbformat_minor": 5
}
